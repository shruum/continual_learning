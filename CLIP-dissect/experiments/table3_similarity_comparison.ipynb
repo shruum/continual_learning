{
 "cells": [
  {
   "cell_type": "markdown",
   "id": "10471e16-5f1a-486a-a053-f32e1faeff3f",
   "metadata": {},
   "source": [
    "## Similarity function comparison"
   ]
  },
  {
   "cell_type": "code",
   "execution_count": 1,
   "id": "4b33deec-4d03-46d8-8ac5-b7b3e5b2f6c9",
   "metadata": {},
   "outputs": [],
   "source": [
    "import os\n",
    "#virtually move to parent directory\n",
    "os.chdir(\"..\")\n",
    "\n",
    "import torch\n",
    "from sentence_transformers import SentenceTransformer\n",
    "from sklearn import metrics\n",
    "\n",
    "import clip\n",
    "import utils\n",
    "import similarity"
   ]
  },
  {
   "cell_type": "markdown",
   "id": "c5eb399e-2c95-4609-bda4-cc5a5fc7f268",
   "metadata": {},
   "source": [
    "## Settings"
   ]
  },
  {
   "cell_type": "code",
   "execution_count": 2,
   "id": "1724590a-2333-4daa-9948-6be1dfc60c25",
   "metadata": {},
   "outputs": [],
   "source": [
    "similarity_fns = [\"cos_similarity\", \"rank_reorder\", \"wpmi\", \"soft_wpmi\"]\n",
    "d_probes = ['cifar100_train', 'broden', 'imagenet_val', 'imagenet_broden']\n",
    "\n",
    "clip_name = 'ViT-B/16'\n",
    "target_name = 'resnet50'\n",
    "target_layer = 'fc'\n",
    "batch_size = 200\n",
    "device = 'cuda'\n",
    "pool_mode = 'avg'\n",
    "save_dir = 'saved_activations'"
   ]
  },
  {
   "cell_type": "code",
   "execution_count": 3,
   "id": "5ed87e72-f472-488d-89bd-c08bee7657d5",
   "metadata": {},
   "outputs": [],
   "source": [
    "model = SentenceTransformer('all-mpnet-base-v2')\n",
    "clip_model, _ = clip.load(clip_name, device=device)\n",
    "\n",
    "with open(\"data/imagenet_labels.txt\", \"r\") as f:\n",
    "    cls_id_to_name = f.read().split(\"\\n\")"
   ]
  },
  {
   "cell_type": "markdown",
   "id": "cbfa97eb-1e6a-45c5-96e5-3d5724be0c13",
   "metadata": {},
   "source": [
    "# Cos similarities"
   ]
  },
  {
   "cell_type": "code",
   "execution_count": 4,
   "id": "4b6a1e91-5363-43a3-8f0b-4a034515923e",
   "metadata": {},
   "outputs": [
    {
     "name": "stdout",
     "output_type": "stream",
     "text": [
      "Files already downloaded and verified\n",
      "Files already downloaded and verified\n"
     ]
    },
    {
     "name": "stderr",
     "output_type": "stream",
     "text": [
      "100%|██████████| 1/1 [00:01<00:00,  1.65s/it]\n"
     ]
    },
    {
     "name": "stdout",
     "output_type": "stream",
     "text": [
      "Similarity fn: cos_similarity, D_probe: cifar100_train\n",
      "Clip similarity: 0.6484, mpnet similarity: 0.2756\n"
     ]
    },
    {
     "name": "stderr",
     "output_type": "stream",
     "text": [
      "100%|██████████| 1/1 [00:01<00:00,  1.81s/it]\n"
     ]
    },
    {
     "name": "stdout",
     "output_type": "stream",
     "text": [
      "Similarity fn: cos_similarity, D_probe: broden\n",
      "Clip similarity: 0.6235, mpnet similarity: 0.2153\n"
     ]
    },
    {
     "name": "stderr",
     "output_type": "stream",
     "text": [
      "100%|██████████| 1/1 [00:01<00:00,  1.48s/it]\n"
     ]
    },
    {
     "name": "stdout",
     "output_type": "stream",
     "text": [
      "Similarity fn: cos_similarity, D_probe: imagenet_val\n",
      "Clip similarity: 0.6216, mpnet similarity: 0.2829\n"
     ]
    },
    {
     "name": "stderr",
     "output_type": "stream",
     "text": [
      "100%|██████████| 1/1 [00:03<00:00,  3.17s/it]\n"
     ]
    },
    {
     "name": "stdout",
     "output_type": "stream",
     "text": [
      "Similarity fn: cos_similarity, D_probe: imagenet_broden\n",
      "Clip similarity: 0.6421, mpnet similarity: 0.2587\n",
      "Files already downloaded and verified\n",
      "Files already downloaded and verified\n"
     ]
    },
    {
     "name": "stderr",
     "output_type": "stream",
     "text": [
      "100%|██████████| 1000/1000 [02:49<00:00,  5.91it/s]\n"
     ]
    },
    {
     "name": "stdout",
     "output_type": "stream",
     "text": [
      "Similarity fn: rank_reorder, D_probe: cifar100_train\n",
      "Clip similarity: 0.7227, mpnet similarity: 0.3247\n"
     ]
    },
    {
     "name": "stderr",
     "output_type": "stream",
     "text": [
      "100%|██████████| 1000/1000 [03:39<00:00,  4.55it/s]\n"
     ]
    },
    {
     "name": "stdout",
     "output_type": "stream",
     "text": [
      "Similarity fn: rank_reorder, D_probe: broden\n",
      "Clip similarity: 0.7471, mpnet similarity: 0.3856\n"
     ]
    },
    {
     "name": "stderr",
     "output_type": "stream",
     "text": [
      "100%|██████████| 1000/1000 [02:46<00:00,  6.00it/s]\n"
     ]
    },
    {
     "name": "stdout",
     "output_type": "stream",
     "text": [
      "Similarity fn: rank_reorder, D_probe: imagenet_val\n",
      "Clip similarity: 0.7832, mpnet similarity: 0.4911\n"
     ]
    },
    {
     "name": "stderr",
     "output_type": "stream",
     "text": [
      "100%|██████████| 1000/1000 [06:54<00:00,  2.41it/s]\n"
     ]
    },
    {
     "name": "stdout",
     "output_type": "stream",
     "text": [
      "Similarity fn: rank_reorder, D_probe: imagenet_broden\n",
      "Clip similarity: 0.7866, mpnet similarity: 0.5035\n",
      "Files already downloaded and verified\n",
      "Files already downloaded and verified\n"
     ]
    },
    {
     "name": "stderr",
     "output_type": "stream",
     "text": [
      "100%|██████████| 1000/1000 [00:01<00:00, 622.31it/s]\n"
     ]
    },
    {
     "name": "stdout",
     "output_type": "stream",
     "text": [
      "Similarity fn: wpmi, D_probe: cifar100_train\n",
      "Clip similarity: 0.7192, mpnet similarity: 0.3457\n"
     ]
    },
    {
     "name": "stderr",
     "output_type": "stream",
     "text": [
      "100%|██████████| 1000/1000 [00:01<00:00, 597.84it/s]\n"
     ]
    },
    {
     "name": "stdout",
     "output_type": "stream",
     "text": [
      "Similarity fn: wpmi, D_probe: broden\n",
      "Clip similarity: 0.7427, mpnet similarity: 0.3886\n"
     ]
    },
    {
     "name": "stderr",
     "output_type": "stream",
     "text": [
      "100%|██████████| 1000/1000 [00:01<00:00, 553.30it/s]\n"
     ]
    },
    {
     "name": "stdout",
     "output_type": "stream",
     "text": [
      "Similarity fn: wpmi, D_probe: imagenet_val\n",
      "Clip similarity: 0.7944, mpnet similarity: 0.5301\n"
     ]
    },
    {
     "name": "stderr",
     "output_type": "stream",
     "text": [
      "100%|██████████| 1000/1000 [00:01<00:00, 553.67it/s]\n"
     ]
    },
    {
     "name": "stdout",
     "output_type": "stream",
     "text": [
      "Similarity fn: wpmi, D_probe: imagenet_broden\n",
      "Clip similarity: 0.7930, mpnet similarity: 0.5266\n",
      "Files already downloaded and verified\n",
      "Files already downloaded and verified\n"
     ]
    },
    {
     "name": "stderr",
     "output_type": "stream",
     "text": [
      "100%|██████████| 1000/1000 [00:05<00:00, 185.16it/s]\n"
     ]
    },
    {
     "name": "stdout",
     "output_type": "stream",
     "text": [
      "torch.Size([1000, 20000])\n",
      "Similarity fn: soft_wpmi, D_probe: cifar100_train\n",
      "Clip similarity: 0.7300, mpnet similarity: 0.3671\n"
     ]
    },
    {
     "name": "stderr",
     "output_type": "stream",
     "text": [
      "100%|██████████| 1000/1000 [00:04<00:00, 203.97it/s]\n"
     ]
    },
    {
     "name": "stdout",
     "output_type": "stream",
     "text": [
      "torch.Size([1000, 20000])\n",
      "Similarity fn: soft_wpmi, D_probe: broden\n",
      "Clip similarity: 0.7412, mpnet similarity: 0.3946\n"
     ]
    },
    {
     "name": "stderr",
     "output_type": "stream",
     "text": [
      "100%|██████████| 1000/1000 [00:04<00:00, 209.43it/s]\n"
     ]
    },
    {
     "name": "stdout",
     "output_type": "stream",
     "text": [
      "torch.Size([1000, 20000])\n",
      "Similarity fn: soft_wpmi, D_probe: imagenet_val\n",
      "Clip similarity: 0.7900, mpnet similarity: 0.5262\n"
     ]
    },
    {
     "name": "stderr",
     "output_type": "stream",
     "text": [
      "100%|██████████| 1000/1000 [00:04<00:00, 209.87it/s]\n"
     ]
    },
    {
     "name": "stdout",
     "output_type": "stream",
     "text": [
      "torch.Size([1000, 20000])\n",
      "Similarity fn: soft_wpmi, D_probe: imagenet_broden\n",
      "Clip similarity: 0.7900, mpnet similarity: 0.5239\n"
     ]
    }
   ],
   "source": [
    "concept_set = 'data/20k.txt'\n",
    "\n",
    "with open(concept_set, 'r') as f:\n",
    "    words = f.read().split('\\n')\n",
    "\n",
    "for similarity_fn in similarity_fns:\n",
    "    for d_probe in d_probes:\n",
    "        utils.save_activations(clip_name = clip_name, target_name = target_name, target_layers = [target_layer], \n",
    "                               d_probe = d_probe, concept_set = concept_set, batch_size = batch_size, \n",
    "                               device = device, pool_mode=pool_mode, save_dir = save_dir)\n",
    "\n",
    "        save_names = utils.get_save_names(clip_name = clip_name, target_name = target_name,\n",
    "                                          target_layer = target_layer, d_probe = d_probe,\n",
    "                                          concept_set = concept_set, pool_mode=pool_mode,\n",
    "                                          save_dir = save_dir)\n",
    "\n",
    "        target_save_name, clip_save_name, text_save_name = save_names\n",
    "\n",
    "        similarities, target_feats = utils.get_similarity_from_activations(target_save_name, clip_save_name, \n",
    "                                                                           text_save_name, \n",
    "                                                                           eval(\"similarity.{}\".format(similarity_fn)),\n",
    "                                                                           device=device)\n",
    "\n",
    "        clip_preds = torch.argmax(similarities, dim=1)\n",
    "        clip_preds = [words[int(pred)] for pred in clip_preds]\n",
    "\n",
    "        clip_cos, mpnet_cos = utils.get_cos_similarity(clip_preds, cls_id_to_name, clip_model, model, device, batch_size)\n",
    "        print(\"Similarity fn: {}, D_probe: {}\".format(similarity_fn, d_probe))\n",
    "        print(\"Clip similarity: {:.4f}, mpnet similarity: {:.4f}\".format(clip_cos, mpnet_cos))"
   ]
  },
  {
   "cell_type": "markdown",
   "id": "81c91edd-85ec-4b37-b7d6-2df042c1f622",
   "metadata": {},
   "source": [
    "# Accuracies"
   ]
  },
  {
   "cell_type": "code",
   "execution_count": 5,
   "id": "1ebc5fec-0878-4f80-b3f1-ca7c1f6a2486",
   "metadata": {},
   "outputs": [],
   "source": [
    "def get_topk_acc(sim, k=5):\n",
    "    correct = 0\n",
    "    for orig_id in range(1000):\n",
    "        vals, ids = torch.topk(sim[orig_id], k=k)\n",
    "        for idx in ids[:k]:\n",
    "            correct += (int(idx)==orig_id)\n",
    "    return (correct/1000)*100\n",
    "\n",
    "def get_correct_rank_mean_median(sim):\n",
    "    ranks = []\n",
    "    for orig_id in range(1000):\n",
    "        vals, ids = torch.sort(sim[orig_id], descending=True)\n",
    "        \n",
    "        ranks.append(list(ids).index(orig_id)+1)\n",
    "        \n",
    "    mean = sum(ranks)/len(ranks)\n",
    "    median = sorted(ranks)[500]\n",
    "    return mean, median\n",
    "\n",
    "def get_auc(sim):\n",
    "    max_sim, preds = torch.max(sim.cpu(), dim=1)\n",
    "    gtruth = torch.arange(0, 1000)\n",
    "    correct = (preds==gtruth)\n",
    "    fpr, tpr, thresholds = metrics.roc_curve(correct, max_sim)\n",
    "    auc = metrics.roc_auc_score(correct, max_sim)\n",
    "    return auc"
   ]
  },
  {
   "cell_type": "code",
   "execution_count": 9,
   "id": "3ae886f7-6e33-4226-8d5e-9e6ccd1699ee",
   "metadata": {},
   "outputs": [
    {
     "name": "stdout",
     "output_type": "stream",
     "text": [
      "Files already downloaded and verified\n",
      "Files already downloaded and verified\n"
     ]
    },
    {
     "name": "stderr",
     "output_type": "stream",
     "text": [
      "100%|██████████| 1/1 [00:00<00:00,  9.83it/s]\n"
     ]
    },
    {
     "name": "stdout",
     "output_type": "stream",
     "text": [
      "Similarity fn: cos_similarity, D_probe: cifar100_train\n",
      "Top 1 acc: 8.60%, Top 5 acc: 25.10%\n",
      "Mean rank of correct class: 53.94, Median rank of correct class: 21\n",
      "AUC: 0.5926\n"
     ]
    },
    {
     "name": "stderr",
     "output_type": "stream",
     "text": [
      "100%|██████████| 1/1 [00:00<00:00,  8.83it/s]\n"
     ]
    },
    {
     "name": "stdout",
     "output_type": "stream",
     "text": [
      "Similarity fn: cos_similarity, D_probe: broden\n",
      "Top 1 acc: 5.70%, Top 5 acc: 21.30%\n",
      "Mean rank of correct class: 63.92, Median rank of correct class: 24\n",
      "AUC: 0.5710\n"
     ]
    },
    {
     "name": "stderr",
     "output_type": "stream",
     "text": [
      "100%|██████████| 1/1 [00:00<00:00, 11.84it/s]\n"
     ]
    },
    {
     "name": "stdout",
     "output_type": "stream",
     "text": [
      "Similarity fn: cos_similarity, D_probe: imagenet_val\n",
      "Top 1 acc: 15.90%, Top 5 acc: 43.80%\n",
      "Mean rank of correct class: 22.56, Median rank of correct class: 7\n",
      "AUC: 0.4849\n"
     ]
    },
    {
     "name": "stderr",
     "output_type": "stream",
     "text": [
      "100%|██████████| 1/1 [00:00<00:00,  5.21it/s]\n"
     ]
    },
    {
     "name": "stdout",
     "output_type": "stream",
     "text": [
      "Similarity fn: cos_similarity, D_probe: imagenet_broden\n",
      "Top 1 acc: 11.30%, Top 5 acc: 34.60%\n",
      "Mean rank of correct class: 32.64, Median rank of correct class: 11\n",
      "AUC: 0.5003\n",
      "Files already downloaded and verified\n",
      "Files already downloaded and verified\n"
     ]
    },
    {
     "name": "stderr",
     "output_type": "stream",
     "text": [
      "100%|██████████| 1000/1000 [00:12<00:00, 81.02it/s]\n"
     ]
    },
    {
     "name": "stdout",
     "output_type": "stream",
     "text": [
      "Similarity fn: rank_reorder, D_probe: cifar100_train\n",
      "Top 1 acc: 36.60%, Top 5 acc: 67.50%\n",
      "Mean rank of correct class: 13.63, Median rank of correct class: 3\n",
      "AUC: 0.6338\n"
     ]
    },
    {
     "name": "stderr",
     "output_type": "stream",
     "text": [
      "100%|██████████| 1000/1000 [00:10<00:00, 93.23it/s]\n"
     ]
    },
    {
     "name": "stdout",
     "output_type": "stream",
     "text": [
      "Similarity fn: rank_reorder, D_probe: broden\n",
      "Top 1 acc: 57.70%, Top 5 acc: 83.70%\n",
      "Mean rank of correct class: 6.69, Median rank of correct class: 1\n",
      "AUC: 0.6853\n"
     ]
    },
    {
     "name": "stderr",
     "output_type": "stream",
     "text": [
      "100%|██████████| 1000/1000 [00:13<00:00, 75.74it/s]\n"
     ]
    },
    {
     "name": "stdout",
     "output_type": "stream",
     "text": [
      "Similarity fn: rank_reorder, D_probe: imagenet_val\n",
      "Top 1 acc: 89.80%, Top 5 acc: 98.60%\n",
      "Mean rank of correct class: 2.28, Median rank of correct class: 1\n",
      "AUC: 0.6434\n"
     ]
    },
    {
     "name": "stderr",
     "output_type": "stream",
     "text": [
      "100%|██████████| 1000/1000 [00:14<00:00, 67.79it/s]\n"
     ]
    },
    {
     "name": "stdout",
     "output_type": "stream",
     "text": [
      "Similarity fn: rank_reorder, D_probe: imagenet_broden\n",
      "Top 1 acc: 89.90%, Top 5 acc: 98.20%\n",
      "Mean rank of correct class: 2.12, Median rank of correct class: 1\n",
      "AUC: 0.5993\n",
      "Files already downloaded and verified\n",
      "Files already downloaded and verified\n"
     ]
    },
    {
     "name": "stderr",
     "output_type": "stream",
     "text": [
      "100%|██████████| 1000/1000 [00:00<00:00, 7502.62it/s]\n"
     ]
    },
    {
     "name": "stdout",
     "output_type": "stream",
     "text": [
      "Similarity fn: wpmi, D_probe: cifar100_train\n",
      "Top 1 acc: 24.00%, Top 5 acc: 55.00%\n",
      "Mean rank of correct class: 20.46, Median rank of correct class: 4\n",
      "AUC: 0.6355\n"
     ]
    },
    {
     "name": "stderr",
     "output_type": "stream",
     "text": [
      "100%|██████████| 1000/1000 [00:00<00:00, 6698.21it/s]\n"
     ]
    },
    {
     "name": "stdout",
     "output_type": "stream",
     "text": [
      "Similarity fn: wpmi, D_probe: broden\n",
      "Top 1 acc: 47.10%, Top 5 acc: 79.40%\n",
      "Mean rank of correct class: 7.58, Median rank of correct class: 2\n",
      "AUC: 0.7118\n"
     ]
    },
    {
     "name": "stderr",
     "output_type": "stream",
     "text": [
      "100%|██████████| 1000/1000 [00:00<00:00, 6421.12it/s]\n"
     ]
    },
    {
     "name": "stdout",
     "output_type": "stream",
     "text": [
      "Similarity fn: wpmi, D_probe: imagenet_val\n",
      "Top 1 acc: 86.90%, Top 5 acc: 98.10%\n",
      "Mean rank of correct class: 2.00, Median rank of correct class: 1\n",
      "AUC: 0.7176\n"
     ]
    },
    {
     "name": "stderr",
     "output_type": "stream",
     "text": [
      "100%|██████████| 1000/1000 [00:00<00:00, 6964.22it/s]\n"
     ]
    },
    {
     "name": "stdout",
     "output_type": "stream",
     "text": [
      "Similarity fn: wpmi, D_probe: imagenet_broden\n",
      "Top 1 acc: 86.90%, Top 5 acc: 98.10%\n",
      "Mean rank of correct class: 1.99, Median rank of correct class: 1\n",
      "AUC: 0.7270\n",
      "Files already downloaded and verified\n",
      "Files already downloaded and verified\n"
     ]
    },
    {
     "name": "stderr",
     "output_type": "stream",
     "text": [
      "100%|██████████| 1000/1000 [00:00<00:00, 1393.59it/s]\n"
     ]
    },
    {
     "name": "stdout",
     "output_type": "stream",
     "text": [
      "torch.Size([1000, 1000])\n",
      "Similarity fn: soft_wpmi, D_probe: cifar100_train\n",
      "Top 1 acc: 46.30%, Top 5 acc: 79.40%\n",
      "Mean rank of correct class: 8.61, Median rank of correct class: 2\n",
      "AUC: 0.6673\n"
     ]
    },
    {
     "name": "stderr",
     "output_type": "stream",
     "text": [
      "100%|██████████| 1000/1000 [00:00<00:00, 1180.32it/s]\n"
     ]
    },
    {
     "name": "stdout",
     "output_type": "stream",
     "text": [
      "torch.Size([1000, 1000])\n",
      "Similarity fn: soft_wpmi, D_probe: broden\n",
      "Top 1 acc: 70.70%, Top 5 acc: 90.00%\n",
      "Mean rank of correct class: 4.80, Median rank of correct class: 1\n",
      "AUC: 0.7856\n"
     ]
    },
    {
     "name": "stderr",
     "output_type": "stream",
     "text": [
      "100%|██████████| 1000/1000 [00:00<00:00, 1344.09it/s]\n"
     ]
    },
    {
     "name": "stdout",
     "output_type": "stream",
     "text": [
      "torch.Size([1000, 1000])\n",
      "Similarity fn: soft_wpmi, D_probe: imagenet_val\n",
      "Top 1 acc: 95.50%, Top 5 acc: 98.90%\n",
      "Mean rank of correct class: 1.18, Median rank of correct class: 1\n",
      "AUC: 0.9208\n"
     ]
    },
    {
     "name": "stderr",
     "output_type": "stream",
     "text": [
      "100%|██████████| 1000/1000 [00:00<00:00, 1253.33it/s]\n"
     ]
    },
    {
     "name": "stdout",
     "output_type": "stream",
     "text": [
      "torch.Size([1000, 1000])\n",
      "Similarity fn: soft_wpmi, D_probe: imagenet_broden\n",
      "Top 1 acc: 95.40%, Top 5 acc: 99.00%\n",
      "Mean rank of correct class: 1.19, Median rank of correct class: 1\n",
      "AUC: 0.9166\n"
     ]
    }
   ],
   "source": [
    "concept_set = 'data/imagenet_labels.txt'\n",
    "with open(concept_set, 'r') as f: \n",
    "    words = (f.read()).split('\\n')\n",
    "    \n",
    "\n",
    "for similarity_fn in similarity_fns:\n",
    "    for d_probe in d_probes:\n",
    "        utils.save_activations(clip_name = clip_name, target_name = target_name, target_layers = [target_layer], \n",
    "                               d_probe = d_probe, concept_set = concept_set, batch_size = batch_size, \n",
    "                               device = device, pool_mode=pool_mode, save_dir = save_dir)\n",
    "\n",
    "        save_names = utils.get_save_names(clip_name = clip_name, target_name = target_name,\n",
    "                                          target_layer = target_layer, d_probe = d_probe,\n",
    "                                          concept_set = concept_set, pool_mode=pool_mode,\n",
    "                  \n",
    "                                          save_dir = save_dir)\n",
    "\n",
    "        target_save_name, clip_save_name, text_save_name = save_names\n",
    "\n",
    "        similarities, target_feats = utils.get_similarity_from_activations(target_save_name, clip_save_name, \n",
    "                                                                           text_save_name, \n",
    "                                                                           eval(\"similarity.{}\".format(similarity_fn)),\n",
    "                                                                           device=device)\n",
    "        \n",
    "        print(\"Similarity fn: {}, D_probe: {}\".format(similarity_fn, d_probe))\n",
    "        print(\"Top 1 acc: {:.2f}%, Top 5 acc: {:.2f}%\".format(get_topk_acc(similarities, k=1),\n",
    "                                                         get_topk_acc(similarities, k=5)))\n",
    "        \n",
    "        mean, median = get_correct_rank_mean_median(similarities)\n",
    "        print(\"Mean rank of correct class: {:.2f}, Median rank of correct class: {}\".format(mean, median))\n",
    "        print(\"AUC: {:.4f}\".format(get_auc(similarities)))\n",
    "\n"
   ]
  }
 ],
 "metadata": {
  "kernelspec": {
   "display_name": "Python [conda env:jovyan-clip]",
   "language": "python",
   "name": "conda-env-jovyan-clip-py"
  },
  "language_info": {
   "codemirror_mode": {
    "name": "ipython",
    "version": 3
   },
   "file_extension": ".py",
   "mimetype": "text/x-python",
   "name": "python",
   "nbconvert_exporter": "python",
   "pygments_lexer": "ipython3",
   "version": "3.9.9"
  }
 },
 "nbformat": 4,
 "nbformat_minor": 5
}
